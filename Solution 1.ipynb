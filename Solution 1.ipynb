{
 "cells": [
  {
   "cell_type": "code",
   "execution_count": 30,
   "metadata": {},
   "outputs": [],
   "source": [
    "import numpy as np\n",
    "import pandas as pd\n",
    "\n",
    "%matplotlib inline\n",
    "import matplotlib.pyplot as plt\n",
    "import seaborn as sns"
   ]
  },
  {
   "cell_type": "code",
   "execution_count": 31,
   "metadata": {
    "scrolled": true
   },
   "outputs": [
    {
     "name": "stdout",
     "output_type": "stream",
     "text": [
      "Train shape : (614, 13), Test shape : (367, 12)\n"
     ]
    },
    {
     "data": {
      "text/html": [
       "<div>\n",
       "<style scoped>\n",
       "    .dataframe tbody tr th:only-of-type {\n",
       "        vertical-align: middle;\n",
       "    }\n",
       "\n",
       "    .dataframe tbody tr th {\n",
       "        vertical-align: top;\n",
       "    }\n",
       "\n",
       "    .dataframe thead th {\n",
       "        text-align: right;\n",
       "    }\n",
       "</style>\n",
       "<table border=\"1\" class=\"dataframe\">\n",
       "  <thead>\n",
       "    <tr style=\"text-align: right;\">\n",
       "      <th></th>\n",
       "      <th>Loan_ID</th>\n",
       "      <th>Gender</th>\n",
       "      <th>Married</th>\n",
       "      <th>Dependents</th>\n",
       "      <th>Education</th>\n",
       "      <th>Self_Employed</th>\n",
       "      <th>ApplicantIncome</th>\n",
       "      <th>CoapplicantIncome</th>\n",
       "      <th>LoanAmount</th>\n",
       "      <th>Loan_Amount_Term</th>\n",
       "      <th>Credit_History</th>\n",
       "      <th>Property_Area</th>\n",
       "      <th>Loan_Status</th>\n",
       "    </tr>\n",
       "  </thead>\n",
       "  <tbody>\n",
       "    <tr>\n",
       "      <th>0</th>\n",
       "      <td>LP001002</td>\n",
       "      <td>Male</td>\n",
       "      <td>No</td>\n",
       "      <td>0</td>\n",
       "      <td>Graduate</td>\n",
       "      <td>No</td>\n",
       "      <td>5849</td>\n",
       "      <td>0.0</td>\n",
       "      <td>NaN</td>\n",
       "      <td>360.0</td>\n",
       "      <td>1.0</td>\n",
       "      <td>Urban</td>\n",
       "      <td>Y</td>\n",
       "    </tr>\n",
       "    <tr>\n",
       "      <th>1</th>\n",
       "      <td>LP001003</td>\n",
       "      <td>Male</td>\n",
       "      <td>Yes</td>\n",
       "      <td>1</td>\n",
       "      <td>Graduate</td>\n",
       "      <td>No</td>\n",
       "      <td>4583</td>\n",
       "      <td>1508.0</td>\n",
       "      <td>128.0</td>\n",
       "      <td>360.0</td>\n",
       "      <td>1.0</td>\n",
       "      <td>Rural</td>\n",
       "      <td>N</td>\n",
       "    </tr>\n",
       "    <tr>\n",
       "      <th>2</th>\n",
       "      <td>LP001005</td>\n",
       "      <td>Male</td>\n",
       "      <td>Yes</td>\n",
       "      <td>0</td>\n",
       "      <td>Graduate</td>\n",
       "      <td>Yes</td>\n",
       "      <td>3000</td>\n",
       "      <td>0.0</td>\n",
       "      <td>66.0</td>\n",
       "      <td>360.0</td>\n",
       "      <td>1.0</td>\n",
       "      <td>Urban</td>\n",
       "      <td>Y</td>\n",
       "    </tr>\n",
       "    <tr>\n",
       "      <th>3</th>\n",
       "      <td>LP001006</td>\n",
       "      <td>Male</td>\n",
       "      <td>Yes</td>\n",
       "      <td>0</td>\n",
       "      <td>Not Graduate</td>\n",
       "      <td>No</td>\n",
       "      <td>2583</td>\n",
       "      <td>2358.0</td>\n",
       "      <td>120.0</td>\n",
       "      <td>360.0</td>\n",
       "      <td>1.0</td>\n",
       "      <td>Urban</td>\n",
       "      <td>Y</td>\n",
       "    </tr>\n",
       "    <tr>\n",
       "      <th>4</th>\n",
       "      <td>LP001008</td>\n",
       "      <td>Male</td>\n",
       "      <td>No</td>\n",
       "      <td>0</td>\n",
       "      <td>Graduate</td>\n",
       "      <td>No</td>\n",
       "      <td>6000</td>\n",
       "      <td>0.0</td>\n",
       "      <td>141.0</td>\n",
       "      <td>360.0</td>\n",
       "      <td>1.0</td>\n",
       "      <td>Urban</td>\n",
       "      <td>Y</td>\n",
       "    </tr>\n",
       "  </tbody>\n",
       "</table>\n",
       "</div>"
      ],
      "text/plain": [
       "    Loan_ID Gender Married Dependents     Education Self_Employed  \\\n",
       "0  LP001002   Male      No          0      Graduate            No   \n",
       "1  LP001003   Male     Yes          1      Graduate            No   \n",
       "2  LP001005   Male     Yes          0      Graduate           Yes   \n",
       "3  LP001006   Male     Yes          0  Not Graduate            No   \n",
       "4  LP001008   Male      No          0      Graduate            No   \n",
       "\n",
       "   ApplicantIncome  CoapplicantIncome  LoanAmount  Loan_Amount_Term  \\\n",
       "0             5849                0.0         NaN             360.0   \n",
       "1             4583             1508.0       128.0             360.0   \n",
       "2             3000                0.0        66.0             360.0   \n",
       "3             2583             2358.0       120.0             360.0   \n",
       "4             6000                0.0       141.0             360.0   \n",
       "\n",
       "   Credit_History Property_Area Loan_Status  \n",
       "0             1.0         Urban           Y  \n",
       "1             1.0         Rural           N  \n",
       "2             1.0         Urban           Y  \n",
       "3             1.0         Urban           Y  \n",
       "4             1.0         Urban           Y  "
      ]
     },
     "execution_count": 31,
     "metadata": {},
     "output_type": "execute_result"
    }
   ],
   "source": [
    "train = pd.read_csv(\"train_ctrUa4K.csv\")\n",
    "test = pd.read_csv(\"test_lAUu6dG.csv\")\n",
    "\n",
    "print(\"Train shape : {}, Test shape : {}\".format(train.shape,test.shape))\n",
    "train.head()"
   ]
  },
  {
   "cell_type": "code",
   "execution_count": 32,
   "metadata": {
    "scrolled": true
   },
   "outputs": [
    {
     "name": "stdout",
     "output_type": "stream",
     "text": [
      "Null Values - training\n",
      "Loan_ID : 0\n",
      "Gender : 13\n",
      "Married : 3\n",
      "Dependents : 15\n",
      "Education : 0\n",
      "Self_Employed : 32\n",
      "ApplicantIncome : 0\n",
      "CoapplicantIncome : 0\n",
      "LoanAmount : 22\n",
      "Loan_Amount_Term : 14\n",
      "Credit_History : 50\n",
      "Property_Area : 0\n",
      "Loan_Status : 0\n",
      "\n",
      "Null Values - testing\n",
      "Loan_ID : 0\n",
      "Gender : 11\n",
      "Married : 0\n",
      "Dependents : 10\n",
      "Education : 0\n",
      "Self_Employed : 23\n",
      "ApplicantIncome : 0\n",
      "CoapplicantIncome : 0\n",
      "LoanAmount : 5\n",
      "Loan_Amount_Term : 6\n",
      "Credit_History : 29\n",
      "Property_Area : 0\n"
     ]
    }
   ],
   "source": [
    "## Checking null values\n",
    "print(\"Null Values - training\")\n",
    "for col in train.columns:\n",
    "    print(\"{} : {}\".format(col, len(train[train[col].isna()])))\n",
    "print()\n",
    "print(\"Null Values - testing\")\n",
    "for col in test.columns:\n",
    "    print(\"{} : {}\".format(col, len(test[test[col].isna()])))"
   ]
  },
  {
   "cell_type": "code",
   "execution_count": 33,
   "metadata": {},
   "outputs": [
    {
     "name": "stdout",
     "output_type": "stream",
     "text": [
      "Gender : ['Male' 'Female' nan]\n",
      "Married : ['No' 'Yes' nan]\n",
      "Dependents : ['0' '1' '2' '3+' nan]\n",
      "Education : ['Graduate' 'Not Graduate']\n",
      "Self_Employed : ['No' 'Yes' nan]\n",
      "Loan_Amount_Term : [360. 120. 240.  nan 180.  60. 300. 480.  36.  84.  12.]\n",
      "Credit_History : [ 1.  0. nan]\n",
      "Property_Area : ['Urban' 'Rural' 'Semiurban']\n"
     ]
    }
   ],
   "source": [
    "#check unique values\n",
    "categorical_columns = ['Gender','Married','Dependents','Education','Self_Employed','Loan_Amount_Term','Credit_History','Property_Area']\n",
    "continuous_columns = ['ApplicantIncome','CoapplicantIncome','LoanAmount']\n",
    "for cat_col in categorical_columns:\n",
    "    print(\"{} : {}\".format(cat_col,train[cat_col].unique()))"
   ]
  },
  {
   "cell_type": "markdown",
   "metadata": {},
   "source": [
    "### Visualizations"
   ]
  },
  {
   "cell_type": "code",
   "execution_count": 34,
   "metadata": {},
   "outputs": [
    {
     "data": {
      "text/plain": [
       "<matplotlib.axes._subplots.AxesSubplot at 0x1d6aac11280>"
      ]
     },
     "execution_count": 34,
     "metadata": {},
     "output_type": "execute_result"
    },
    {
     "data": {
      "image/png": "[encoded data removed]",
      "text/plain": [
       "<Figure size 1440x720 with 6 Axes>"
      ]
     },
     "metadata": {
      "needs_background": "light"
     },
     "output_type": "display_data"
    }
   ],
   "source": [
    "fig,ax = plt.subplots(figsize=(20,10),ncols=3,nrows=2)\n",
    "#sns.barplot(x=\"Gender\",y=\"Loan_\",hue=\"Marital_Status\",estimator=np.mean,data=df_train,ax=ax[0])\n",
    "sns.countplot(x=\"Gender\",hue=\"Loan_Status\",data=train,ax=ax[0][0])\n",
    "sns.countplot(x=\"Married\",hue=\"Loan_Status\",data=train,ax=ax[0][1])\n",
    "sns.countplot(x=\"Dependents\",hue=\"Loan_Status\",data=train,ax=ax[0][2])\n",
    "sns.countplot(x=\"Property_Area\",hue=\"Loan_Status\",data=train,ax=ax[1][0])\n",
    "sns.countplot(x=\"Self_Employed\",hue=\"Loan_Status\",data=train, ax=ax[1][1])\n",
    "sns.countplot(x=\"Credit_History\",hue=\"Loan_Status\",data=train, ax=ax[1][2])"
   ]
  },
  {
   "cell_type": "code",
   "execution_count": 35,
   "metadata": {},
   "outputs": [],
   "source": [
    "#there are mostly male applicant lets replace NA with Male - (13,11)\n",
    "train.Gender.fillna(\"Male\",inplace=True);test.Gender.fillna(\"Male\",inplace=True)\n",
    "\n",
    "#there are moslty married applicant lets replace them with Married (3,0)\n",
    "train.Married.fillna(\"Yes\",inplace=True)\n",
    "\n",
    "#most people dont have dependents (15,10)\n",
    "train.Dependents.fillna(0,inplace=True);test.Dependents.fillna(0,inplace=True)\n",
    "\n",
    "#property area, it has no na values\n",
    "\n",
    "#most people are not self_employed\n",
    "train.Self_Employed.fillna(\"No\",inplace=True);test.Self_Employed.fillna(\"No\",inplace=True)\n",
    "\n",
    "#most people have credit history, but NA value (50,29)\n",
    "train.Credit_History.fillna(-1,inplace=True);test.Credit_History.fillna(-1,inplace=True)\n",
    "\n",
    "#most people are graduate but it has no NA values"
   ]
  },
  {
   "cell_type": "code",
   "execution_count": 36,
   "metadata": {},
   "outputs": [
    {
     "data": {
      "text/plain": [
       "<matplotlib.axes._subplots.AxesSubplot at 0x1d6ba1c6100>"
      ]
     },
     "execution_count": 36,
     "metadata": {},
     "output_type": "execute_result"
    },
    {
     "data": {
      "image/png": "[encoded data removed]",
      "text/plain": [
       "<Figure size 1440x720 with 6 Axes>"
      ]
     },
     "metadata": {
      "needs_background": "light"
     },
     "output_type": "display_data"
    }
   ],
   "source": [
    "fig,ax = plt.subplots(figsize=(20,10),ncols=3,nrows=2)\n",
    "sns.countplot(x=\"Education\",hue=\"Loan_Status\",data=train,ax=ax[0][0])\n",
    "\n",
    "# Loan_Status vs ApplicantIncome\n",
    "applicantIncome = train.ApplicantIncome[ train.ApplicantIncome < np.percentile(train.ApplicantIncome,95)]\n",
    "loanStatus = train.Loan_Status[ train.ApplicantIncome < np.percentile(train.ApplicantIncome,95)]\n",
    "sns.boxplot(x=loanStatus,y=applicantIncome,ax=ax[0][1])\n",
    "\n",
    "# Loan_Status vs CoapplicantIncome\n",
    "coapplicantIncome = train.CoapplicantIncome[ train.CoapplicantIncome < np.percentile(train.CoapplicantIncome,96)]\n",
    "loanStatus = train.Loan_Status[ train.CoapplicantIncome < np.percentile(train.CoapplicantIncome,96)]\n",
    "sns.boxplot(x=loanStatus,y=coapplicantIncome,ax=ax[0][2])\n",
    "\n",
    "#Loan_Status vs LoanAmount\n",
    "sns.boxplot(x=\"Loan_Status\",y=\"LoanAmount\",data=train,ax=ax[1][0])\n",
    "\n",
    "sns.countplot(x=\"Loan_Amount_Term\",hue=\"Loan_Status\",data=train,ax=ax[1][1])\n",
    "\n",
    "sns.violinplot(\"LoanAmount\",data=train,ax=ax[1][2])"
   ]
  },
  {
   "cell_type": "code",
   "execution_count": 37,
   "metadata": {},
   "outputs": [],
   "source": [
    "#Dealing with applicant Income\n",
    "\n",
    "# replace very high applicant income with 95th percentile\n",
    "applicantIncome_th = np.percentile(train.ApplicantIncome, 95)\n",
    "train.loc[ train[train.ApplicantIncome > applicantIncome_th].index, \"ApplicantIncome\" ] = applicantIncome_th\n",
    "test.loc[ test[test.ApplicantIncome > applicantIncome_th].index, \"ApplicantIncome\" ] = applicantIncome_th"
   ]
  },
  {
   "cell_type": "code",
   "execution_count": 38,
   "metadata": {},
   "outputs": [],
   "source": [
    "#Dealing with co applicant Income\n",
    "\n",
    "#replace very high co applicant income with 96 percentile\n",
    "coapplicantIncome_th = np.percentile(train.CoapplicantIncome, 96)\n",
    "train.loc[ train[train.CoapplicantIncome > coapplicantIncome_th].index, \"CoapplicantIncome\" ] = coapplicantIncome_th\n",
    "test.loc[ test[test.CoapplicantIncome > coapplicantIncome_th].index, \"CoapplicantIncome\" ] = coapplicantIncome_th"
   ]
  },
  {
   "cell_type": "code",
   "execution_count": 39,
   "metadata": {},
   "outputs": [],
   "source": [
    "#Dealing with loan Amount\n",
    "loanAmount_mean = np.mean(train.LoanAmount)\n",
    "train.LoanAmount.fillna(loanAmount_mean,inplace=True)\n",
    "test.LoanAmount.fillna(loanAmount_mean, inplace=True)"
   ]
  },
  {
   "cell_type": "code",
   "execution_count": 40,
   "metadata": {},
   "outputs": [],
   "source": [
    "#Dealing with Loan Amount Term (14,6)\n",
    "train.Loan_Amount_Term.fillna(36.0,inplace=True)\n",
    "test.Loan_Amount_Term.fillna(36.0,inplace=True)"
   ]
  },
  {
   "cell_type": "code",
   "execution_count": 41,
   "metadata": {},
   "outputs": [],
   "source": [
    "submission = pd.DataFrame({\"Loan_ID\":test.Loan_ID})\n",
    "Y = train.Loan_Status\n",
    "train.drop([\"Loan_ID\",\"Loan_Status\"],axis=1,inplace=True)\n",
    "test.drop([\"Loan_ID\"],axis=1,inplace=True)"
   ]
  },
  {
   "cell_type": "code",
   "execution_count": 42,
   "metadata": {},
   "outputs": [],
   "source": [
    "df = train.append(test,sort=False,ignore_index=True)\n",
    "#some preprocessing\n",
    "#1. Label Encoding\n",
    "from sklearn.preprocessing import LabelEncoder\n",
    "le = LabelEncoder()\n",
    "df.Gender = le.fit_transform(df.Gender)\n",
    "df.Married = le.fit_transform(df.Married)\n",
    "df.Property_Area = le.fit_transform(df.Property_Area)\n",
    "df.Self_Employed = le.fit_transform(df.Self_Employed)\n",
    "df.Education = le.fit_transform(df.Education)\n",
    "\n",
    "df.Dependents.replace('3+','3',inplace=True)"
   ]
  },
  {
   "cell_type": "code",
   "execution_count": 43,
   "metadata": {},
   "outputs": [],
   "source": [
    "#2. Scaling\n",
    "from sklearn.preprocessing import MinMaxScaler\n",
    "mms = MinMaxScaler()\n",
    "df.ApplicantIncome = mms.fit_transform(df.ApplicantIncome.values.reshape((len(df.ApplicantIncome),1))).reshape((len(df.ApplicantIncome)))\n",
    "df.CoapplicantIncome = mms.fit_transform(df.CoapplicantIncome.values.reshape((len(df.CoapplicantIncome),1))).reshape((len(df.CoapplicantIncome)))\n",
    "df.LoanAmount = mms.fit_transform(df.LoanAmount.values.reshape((len(df.LoanAmount),1))).reshape((len(df.LoanAmount)))\n",
    "df.Loan_Amount_Term = mms.fit_transform(df.Loan_Amount_Term.values.reshape((len(df.Loan_Amount_Term),1))).reshape((len(df.Loan_Amount_Term)))"
   ]
  },
  {
   "cell_type": "code",
   "execution_count": 44,
   "metadata": {},
   "outputs": [
    {
     "data": {
      "text/plain": [
       "Gender                 int32\n",
       "Married                int32\n",
       "Dependents            object\n",
       "Education              int32\n",
       "Self_Employed          int32\n",
       "ApplicantIncome      float64\n",
       "CoapplicantIncome    float64\n",
       "LoanAmount           float64\n",
       "Loan_Amount_Term     float64\n",
       "Credit_History       float64\n",
       "Property_Area          int32\n",
       "dtype: object"
      ]
     },
     "execution_count": 44,
     "metadata": {},
     "output_type": "execute_result"
    }
   ],
   "source": [
    "df.dtypes"
   ]
  },
  {
   "cell_type": "code",
   "execution_count": 45,
   "metadata": {},
   "outputs": [],
   "source": [
    "df = df.astype({ 'Dependents':int, 'Credit_History':int})\n",
    "TargetEncoder = LabelEncoder()\n",
    "TargetEncoder.fit(Y)\n",
    "Y = TargetEncoder.transform(Y)"
   ]
  },
  {
   "cell_type": "code",
   "execution_count": 46,
   "metadata": {},
   "outputs": [
    {
     "name": "stdout",
     "output_type": "stream",
     "text": [
      "Train shape :(614, 11), Test shape : (367, 11), Train Target Length : 614\n"
     ]
    }
   ],
   "source": [
    "X = df[:614]\n",
    "X_test = df[614:]\n",
    "print(\"Train shape :{}, Test shape : {}, Train Target Length : {}\".format(X.shape,X_test.shape,len(Y)))"
   ]
  },
  {
   "cell_type": "markdown",
   "metadata": {},
   "source": [
    "### Models to try\n",
    "1. Logistic Regression\n",
    "2. RandomForest\n",
    "3. Support Vector Classifier\n",
    "4. XGBoost Classifier"
   ]
  },
  {
   "cell_type": "code",
   "execution_count": 47,
   "metadata": {},
   "outputs": [],
   "source": [
    "from sklearn.metrics import accuracy_score, confusion_matrix\n",
    "def accuracy(model,x,y):\n",
    "    y_ = model.predict(x)\n",
    "    return accuracy_score(y_,y)"
   ]
  },
  {
   "cell_type": "code",
   "execution_count": 48,
   "metadata": {},
   "outputs": [],
   "source": [
    "from sklearn.model_selection import cross_val_score, StratifiedKFold\n",
    "def score(clf):\n",
    "    score = cross_val_score(estimator=clf,X=X,y=Y,scoring=accuracy,n_jobs=-1, \n",
    "                            cv=StratifiedKFold(n_splits=3,shuffle=True)).mean()\n",
    "    return score"
   ]
  },
  {
   "cell_type": "code",
   "execution_count": 49,
   "metadata": {},
   "outputs": [
    {
     "name": "stdout",
     "output_type": "stream",
     "text": [
      "Logistic Regression Accuracy : 0.6726526382910888\n"
     ]
    }
   ],
   "source": [
    "from sklearn.linear_model import LogisticRegression\n",
    "lr = LogisticRegression(penalty='l2',C=1.0)\n",
    "print(\"Logistic Regression Accuracy : {}\".format(score(lr)))"
   ]
  },
  {
   "cell_type": "code",
   "execution_count": 50,
   "metadata": {
    "scrolled": true
   },
   "outputs": [
    {
     "name": "stdout",
     "output_type": "stream",
     "text": [
      "SVC Accuracy : 0.7850549976087997\n"
     ]
    }
   ],
   "source": [
    "from sklearn.svm import SVC\n",
    "svc = SVC(C=1.0)\n",
    "print(\"SVC Accuracy : {}\".format(score(svc)))"
   ]
  },
  {
   "cell_type": "code",
   "execution_count": 51,
   "metadata": {},
   "outputs": [
    {
     "name": "stdout",
     "output_type": "stream",
     "text": [
      "RFC Accuracy : 0.771967160848079\n"
     ]
    }
   ],
   "source": [
    "from sklearn.ensemble import RandomForestClassifier\n",
    "rfc = RandomForestClassifier(n_estimators=50)\n",
    "print(\"RFC Accuracy : {}\".format(score(rfc)))"
   ]
  },
  {
   "cell_type": "code",
   "execution_count": 52,
   "metadata": {},
   "outputs": [
    {
     "name": "stdout",
     "output_type": "stream",
     "text": [
      "XGB Accuracy : 0.7980710983580425\n"
     ]
    }
   ],
   "source": [
    "from xgboost import XGBClassifier\n",
    "xgb = XGBClassifier(n_estimators=50,max_depth=6,learning_rate=0.05)\n",
    "print(\"XGB Accuracy : {}\".format(score(xgb)))"
   ]
  },
  {
   "cell_type": "markdown",
   "metadata": {},
   "source": [
    "#### Lets improve XGB Classifier since it is doing best"
   ]
  },
  {
   "cell_type": "code",
   "execution_count": 53,
   "metadata": {},
   "outputs": [
    {
     "name": "stdout",
     "output_type": "stream",
     "text": [
      "{'n_estimators': 40, 'max_depth': 12, 'learning_rate': 0.06156332476749547, 'colsample_bylevel': 0.6, 'colsample_bytree': 0.6}:0.8045432807269249\n",
      "{'n_estimators': 40, 'max_depth': 8, 'learning_rate': 0.05959291890068391, 'colsample_bylevel': 0.6, 'colsample_bytree': 0.6}:0.8012513948668899\n",
      "100%|█████████████████████████████████████████████| 100/100 [00:15<00:00,  6.53trial/s, best loss: -0.8045432807269249]\n"
     ]
    }
   ],
   "source": [
    "from hyperopt import fmin, hp, tpe\n",
    "\n",
    "def objective(params):\n",
    "    params = {\n",
    "        'n_estimators': int(params['n_estimators']),\n",
    "        'max_depth':int(params['max_depth']),\n",
    "        'learning_rate':params['learning_rate'],\n",
    "        'colsample_bylevel':params['colsample_bylevel'],\n",
    "        'colsample_bytree':params['colsample_bytree']\n",
    "    }\n",
    "    xgb = XGBClassifier(**params,n_jobs=4)\n",
    "    acc = score(xgb)\n",
    "    if acc>0.80: print(\"{}:{}\".format(params,acc))\n",
    "    return -1*acc\n",
    "    \n",
    "space = {\n",
    "    'n_estimators':hp.quniform('n_estimators',20,160,20),\n",
    "    'max_depth':hp.quniform('max_depth',2,18,4),\n",
    "    'learning_rate':hp.uniform('learning_rate',0.05,0.2),\n",
    "    'colsample_bylevel': hp.choice('colsample_bylevel',[0.2,0.4,0.6,1]),\n",
    "    'colsample_bytree': hp.choice('colsample_bytree',[0.2,0.4,0.6,1])\n",
    "}\n",
    "    \n",
    "best = fmin(fn=objective,\n",
    "            space=space,\n",
    "            algo=tpe.suggest,\n",
    "            max_evals=100)"
   ]
  },
  {
   "cell_type": "code",
   "execution_count": 54,
   "metadata": {},
   "outputs": [
    {
     "data": {
      "text/plain": [
       "{'colsample_bylevel': 2,\n",
       " 'colsample_bytree': 2,\n",
       " 'learning_rate': 0.06156332476749547,\n",
       " 'max_depth': 12.0,\n",
       " 'n_estimators': 40.0}"
      ]
     },
     "execution_count": 54,
     "metadata": {},
     "output_type": "execute_result"
    }
   ],
   "source": [
    "best"
   ]
  },
  {
   "cell_type": "code",
   "execution_count": 55,
   "metadata": {},
   "outputs": [
    {
     "data": {
      "text/plain": [
       "XGBClassifier(base_score=0.5, booster='gbtree', colsample_bylevel=1,\n",
       "              colsample_bynode=1, colsample_bytree=0.2, gamma=0, gpu_id=-1,\n",
       "              importance_type='gain', interaction_constraints='',\n",
       "              learning_rate=0.06156332476749547, max_delta_step=0, max_depth=12,\n",
       "              min_child_weight=1, missing=nan, monotone_constraints='()',\n",
       "              n_estimators=40, n_jobs=0, num_parallel_tree=1, random_state=0,\n",
       "              reg_alpha=0, reg_lambda=1, scale_pos_weight=1, subsample=1,\n",
       "              tree_method='exact', validate_parameters=1, verbosity=None)"
      ]
     },
     "execution_count": 55,
     "metadata": {},
     "output_type": "execute_result"
    }
   ],
   "source": [
    "xgb = XGBClassifier( n_estimators= int(best['n_estimators']),\n",
    "        max_depth=int(best['max_depth']),\n",
    "        learning_rate=best['learning_rate'],\n",
    "        colsample_bylevel=1,\n",
    "        colsample_bytree=0.2\n",
    ")\n",
    "xgb.fit(X,Y)"
   ]
  },
  {
   "cell_type": "code",
   "execution_count": 56,
   "metadata": {},
   "outputs": [
    {
     "data": {
      "text/html": [
       "<div>\n",
       "<style scoped>\n",
       "    .dataframe tbody tr th:only-of-type {\n",
       "        vertical-align: middle;\n",
       "    }\n",
       "\n",
       "    .dataframe tbody tr th {\n",
       "        vertical-align: top;\n",
       "    }\n",
       "\n",
       "    .dataframe thead th {\n",
       "        text-align: right;\n",
       "    }\n",
       "</style>\n",
       "<table border=\"1\" class=\"dataframe\">\n",
       "  <thead>\n",
       "    <tr style=\"text-align: right;\">\n",
       "      <th></th>\n",
       "      <th>Loan_ID</th>\n",
       "      <th>Loan_Status</th>\n",
       "    </tr>\n",
       "  </thead>\n",
       "  <tbody>\n",
       "    <tr>\n",
       "      <th>0</th>\n",
       "      <td>LP001015</td>\n",
       "      <td>Y</td>\n",
       "    </tr>\n",
       "    <tr>\n",
       "      <th>1</th>\n",
       "      <td>LP001022</td>\n",
       "      <td>Y</td>\n",
       "    </tr>\n",
       "    <tr>\n",
       "      <th>2</th>\n",
       "      <td>LP001031</td>\n",
       "      <td>Y</td>\n",
       "    </tr>\n",
       "    <tr>\n",
       "      <th>3</th>\n",
       "      <td>LP001035</td>\n",
       "      <td>Y</td>\n",
       "    </tr>\n",
       "    <tr>\n",
       "      <th>4</th>\n",
       "      <td>LP001051</td>\n",
       "      <td>Y</td>\n",
       "    </tr>\n",
       "  </tbody>\n",
       "</table>\n",
       "</div>"
      ],
      "text/plain": [
       "    Loan_ID Loan_Status\n",
       "0  LP001015           Y\n",
       "1  LP001022           Y\n",
       "2  LP001031           Y\n",
       "3  LP001035           Y\n",
       "4  LP001051           Y"
      ]
     },
     "execution_count": 56,
     "metadata": {},
     "output_type": "execute_result"
    }
   ],
   "source": [
    "Y_test = xgb.predict(X_test)\n",
    "submission['Loan_Status'] = TargetEncoder.inverse_transform(Y_test)\n",
    "submission.head()"
   ]
  },
  {
   "cell_type": "code",
   "execution_count": 57,
   "metadata": {},
   "outputs": [],
   "source": [
    "submission.to_csv(\"submission1.csv\",index=False)"
   ]
  },
  {
   "cell_type": "code",
   "execution_count": 58,
   "metadata": {},
   "outputs": [
    {
     "data": {
      "text/html": [
       "<div>\n",
       "<style scoped>\n",
       "    .dataframe tbody tr th:only-of-type {\n",
       "        vertical-align: middle;\n",
       "    }\n",
       "\n",
       "    .dataframe tbody tr th {\n",
       "        vertical-align: top;\n",
       "    }\n",
       "\n",
       "    .dataframe thead th {\n",
       "        text-align: right;\n",
       "    }\n",
       "</style>\n",
       "<table border=\"1\" class=\"dataframe\">\n",
       "  <thead>\n",
       "    <tr style=\"text-align: right;\">\n",
       "      <th></th>\n",
       "      <th>Gender</th>\n",
       "      <th>Married</th>\n",
       "      <th>Dependents</th>\n",
       "      <th>Education</th>\n",
       "      <th>Self_Employed</th>\n",
       "      <th>ApplicantIncome</th>\n",
       "      <th>CoapplicantIncome</th>\n",
       "      <th>LoanAmount</th>\n",
       "      <th>Loan_Amount_Term</th>\n",
       "      <th>Credit_History</th>\n",
       "      <th>Property_Area</th>\n",
       "    </tr>\n",
       "  </thead>\n",
       "  <tbody>\n",
       "    <tr>\n",
       "      <th>614</th>\n",
       "      <td>1</td>\n",
       "      <td>1</td>\n",
       "      <td>0</td>\n",
       "      <td>0</td>\n",
       "      <td>0</td>\n",
       "      <td>0.392238</td>\n",
       "      <td>0.000000</td>\n",
       "      <td>0.146165</td>\n",
       "      <td>0.746835</td>\n",
       "      <td>1</td>\n",
       "      <td>2</td>\n",
       "    </tr>\n",
       "    <tr>\n",
       "      <th>615</th>\n",
       "      <td>1</td>\n",
       "      <td>1</td>\n",
       "      <td>1</td>\n",
       "      <td>0</td>\n",
       "      <td>0</td>\n",
       "      <td>0.210931</td>\n",
       "      <td>0.277930</td>\n",
       "      <td>0.169320</td>\n",
       "      <td>0.746835</td>\n",
       "      <td>1</td>\n",
       "      <td>2</td>\n",
       "    </tr>\n",
       "    <tr>\n",
       "      <th>616</th>\n",
       "      <td>1</td>\n",
       "      <td>1</td>\n",
       "      <td>2</td>\n",
       "      <td>0</td>\n",
       "      <td>0</td>\n",
       "      <td>0.342865</td>\n",
       "      <td>0.333516</td>\n",
       "      <td>0.287988</td>\n",
       "      <td>0.746835</td>\n",
       "      <td>1</td>\n",
       "      <td>2</td>\n",
       "    </tr>\n",
       "    <tr>\n",
       "      <th>617</th>\n",
       "      <td>1</td>\n",
       "      <td>1</td>\n",
       "      <td>2</td>\n",
       "      <td>0</td>\n",
       "      <td>0</td>\n",
       "      <td>0.160461</td>\n",
       "      <td>0.471740</td>\n",
       "      <td>0.131693</td>\n",
       "      <td>0.746835</td>\n",
       "      <td>-1</td>\n",
       "      <td>2</td>\n",
       "    </tr>\n",
       "    <tr>\n",
       "      <th>618</th>\n",
       "      <td>1</td>\n",
       "      <td>0</td>\n",
       "      <td>0</td>\n",
       "      <td>1</td>\n",
       "      <td>0</td>\n",
       "      <td>0.224645</td>\n",
       "      <td>0.000000</td>\n",
       "      <td>0.099855</td>\n",
       "      <td>0.746835</td>\n",
       "      <td>1</td>\n",
       "      <td>2</td>\n",
       "    </tr>\n",
       "    <tr>\n",
       "      <th>...</th>\n",
       "      <td>...</td>\n",
       "      <td>...</td>\n",
       "      <td>...</td>\n",
       "      <td>...</td>\n",
       "      <td>...</td>\n",
       "      <td>...</td>\n",
       "      <td>...</td>\n",
       "      <td>...</td>\n",
       "      <td>...</td>\n",
       "      <td>...</td>\n",
       "      <td>...</td>\n",
       "    </tr>\n",
       "    <tr>\n",
       "      <th>976</th>\n",
       "      <td>1</td>\n",
       "      <td>1</td>\n",
       "      <td>3</td>\n",
       "      <td>1</td>\n",
       "      <td>1</td>\n",
       "      <td>0.274909</td>\n",
       "      <td>0.329255</td>\n",
       "      <td>0.150507</td>\n",
       "      <td>0.746835</td>\n",
       "      <td>1</td>\n",
       "      <td>2</td>\n",
       "    </tr>\n",
       "    <tr>\n",
       "      <th>977</th>\n",
       "      <td>1</td>\n",
       "      <td>1</td>\n",
       "      <td>0</td>\n",
       "      <td>0</td>\n",
       "      <td>0</td>\n",
       "      <td>0.285127</td>\n",
       "      <td>0.131368</td>\n",
       "      <td>0.153401</td>\n",
       "      <td>0.746835</td>\n",
       "      <td>1</td>\n",
       "      <td>2</td>\n",
       "    </tr>\n",
       "    <tr>\n",
       "      <th>978</th>\n",
       "      <td>1</td>\n",
       "      <td>0</td>\n",
       "      <td>0</td>\n",
       "      <td>0</td>\n",
       "      <td>0</td>\n",
       "      <td>0.222862</td>\n",
       "      <td>0.369276</td>\n",
       "      <td>0.169320</td>\n",
       "      <td>0.746835</td>\n",
       "      <td>-1</td>\n",
       "      <td>1</td>\n",
       "    </tr>\n",
       "    <tr>\n",
       "      <th>979</th>\n",
       "      <td>1</td>\n",
       "      <td>1</td>\n",
       "      <td>0</td>\n",
       "      <td>0</td>\n",
       "      <td>0</td>\n",
       "      <td>0.342865</td>\n",
       "      <td>0.443391</td>\n",
       "      <td>0.215630</td>\n",
       "      <td>0.746835</td>\n",
       "      <td>1</td>\n",
       "      <td>0</td>\n",
       "    </tr>\n",
       "    <tr>\n",
       "      <th>980</th>\n",
       "      <td>1</td>\n",
       "      <td>0</td>\n",
       "      <td>0</td>\n",
       "      <td>0</td>\n",
       "      <td>1</td>\n",
       "      <td>0.630872</td>\n",
       "      <td>0.000000</td>\n",
       "      <td>0.128799</td>\n",
       "      <td>0.367089</td>\n",
       "      <td>1</td>\n",
       "      <td>0</td>\n",
       "    </tr>\n",
       "  </tbody>\n",
       "</table>\n",
       "<p>367 rows × 11 columns</p>\n",
       "</div>"
      ],
      "text/plain": [
       "     Gender  Married  Dependents  Education  Self_Employed  ApplicantIncome  \\\n",
       "614       1        1           0          0              0         0.392238   \n",
       "615       1        1           1          0              0         0.210931   \n",
       "616       1        1           2          0              0         0.342865   \n",
       "617       1        1           2          0              0         0.160461   \n",
       "618       1        0           0          1              0         0.224645   \n",
       "..      ...      ...         ...        ...            ...              ...   \n",
       "976       1        1           3          1              1         0.274909   \n",
       "977       1        1           0          0              0         0.285127   \n",
       "978       1        0           0          0              0         0.222862   \n",
       "979       1        1           0          0              0         0.342865   \n",
       "980       1        0           0          0              1         0.630872   \n",
       "\n",
       "     CoapplicantIncome  LoanAmount  Loan_Amount_Term  Credit_History  \\\n",
       "614           0.000000    0.146165          0.746835               1   \n",
       "615           0.277930    0.169320          0.746835               1   \n",
       "616           0.333516    0.287988          0.746835               1   \n",
       "617           0.471740    0.131693          0.746835              -1   \n",
       "618           0.000000    0.099855          0.746835               1   \n",
       "..                 ...         ...               ...             ...   \n",
       "976           0.329255    0.150507          0.746835               1   \n",
       "977           0.131368    0.153401          0.746835               1   \n",
       "978           0.369276    0.169320          0.746835              -1   \n",
       "979           0.443391    0.215630          0.746835               1   \n",
       "980           0.000000    0.128799          0.367089               1   \n",
       "\n",
       "     Property_Area  \n",
       "614              2  \n",
       "615              2  \n",
       "616              2  \n",
       "617              2  \n",
       "618              2  \n",
       "..             ...  \n",
       "976              2  \n",
       "977              2  \n",
       "978              1  \n",
       "979              0  \n",
       "980              0  \n",
       "\n",
       "[367 rows x 11 columns]"
      ]
     },
     "execution_count": 58,
     "metadata": {},
     "output_type": "execute_result"
    }
   ],
   "source": [
    "X_test"
   ]
  },
  {
   "cell_type": "code",
   "execution_count": null,
   "metadata": {},
   "outputs": [],
   "source": []
  }
 ],
 "metadata": {
  "kernelspec": {
   "display_name": "Python 3",
   "language": "python",
   "name": "python3"
  },
  "language_info": {
   "codemirror_mode": {
    "name": "ipython",
    "version": 3
   },
   "file_extension": ".py",
   "mimetype": "text/x-python",
   "name": "python",
   "nbconvert_exporter": "python",
   "pygments_lexer": "ipython3",
   "version": "3.8.3"
  }
 },
 "nbformat": 4,
 "nbformat_minor": 2
}
